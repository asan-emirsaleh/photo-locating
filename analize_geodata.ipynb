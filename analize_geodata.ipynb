{
 "cells": [
  {
   "cell_type": "code",
   "execution_count": null,
   "metadata": {},
   "outputs": [],
   "source": [
    "import exifread\n",
    "import os\n",
    "import pandas as pd\n",
    "import exifread.utils as utils\n",
    "\n",
    "parent_dir = os.curdir\n",
    "dest = os.path.join(parent_dir, 'output')\n",
    "try:\n",
    "    os.mkdir(dest)\n",
    "except OSError as error:\n",
    "    print(error)    \n",
    "\n",
    "geotags = []\n",
    "\n",
    "for filename in os.listdir('photos'):\n",
    "  f = open(os.path.join('photos', filename), 'rb')\n",
    "  tags = exifread.process_file(f)\n",
    "  if 'GPS GPSLatitude' in tags:\n",
    "    lat, lon = utils.get_gps_coords(tags)\n",
    "    geotags.append([filename, tags['EXIF DateTimeOriginal'], lat, lon])\n",
    "\n",
    "df = pd.DataFrame(geotags, columns=['filename', 'datetime', 'latitude', 'longitude'])\n",
    "df.to_csv('output/geodata.tsv', sep=\"\\t\")\n",
    "\n",
    "print(geotags)\n",
    "display(df)"
   ]
  },
  {
   "cell_type": "code",
   "execution_count": null,
   "metadata": {},
   "outputs": [],
   "source": [
    "import pandas as pd\n",
    "\n",
    "# Load your data into a DataFrame\n",
    "data = pd.read_csv('output/geodata.tsv', delimiter=\"\\t\", index_col=0)\n",
    "display(data)"
   ]
  },
  {
   "cell_type": "code",
   "execution_count": null,
   "metadata": {},
   "outputs": [],
   "source": [
    "import folium\n",
    "\n",
    "# Create a base map\n",
    "m = folium.Map(location=[data['latitude'].mean(), data['longitude'].mean()], zoom_start=8)\n",
    "\n",
    "#print(icons)\n",
    "\n",
    "# Add markers for each accession\n",
    "for idx, row in data.iterrows():\n",
    "    acc = row['filename']\n",
    "    d = row['datetime']\n",
    "    geodata = [row['latitude'], row['longitude']]\n",
    "    match acc:\n",
    "        case '':\n",
    "            folium.Marker(geodata, icon=folium.Icon(color=\"red\", icon=\"\"), tooltip=acc, popup=f'{d}\\n{acc}').add_to(m)\n",
    "        case _:\n",
    "            folium.Marker(geodata, icon=folium.Icon(icon=\"\"), tooltip=acc, popup=f'{d}\\n{acc}').add_to(m)\n",
    "\n",
    "# Display the map\n",
    "m"
   ]
  }
 ],
 "metadata": {
  "kernelspec": {
   "display_name": "geo-env",
   "language": "python",
   "name": "python3"
  },
  "language_info": {
   "codemirror_mode": {
    "name": "ipython",
    "version": 3
   },
   "file_extension": ".py",
   "mimetype": "text/x-python",
   "name": "python",
   "nbconvert_exporter": "python",
   "pygments_lexer": "ipython3",
   "version": "3.12.4"
  }
 },
 "nbformat": 4,
 "nbformat_minor": 2
}
